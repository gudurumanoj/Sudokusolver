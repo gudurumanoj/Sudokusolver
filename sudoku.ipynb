{
 "cells": [
  {
   "cell_type": "markdown",
   "metadata": {
    "id": "u9PrEp3fC4Lw"
   },
   "source": [
    "# Sudoku Solver\n",
    "- Used OpenCV tools to preprocess the image and extract the digits in the sudoku grid image\n",
    "- Used SAT solver to solve the sudoku grid"
   ]
  },
  {
   "cell_type": "code",
   "execution_count": null,
   "metadata": {
    "executionInfo": {
     "elapsed": 532,
     "status": "ok",
     "timestamp": 1658405535343,
     "user": {
      "displayName": "Guduru Manoj",
      "userId": "13304024587256658139"
     },
     "user_tz": -330
    },
    "id": "fXpNUxT4CXI1"
   },
   "outputs": [],
   "source": [
    "## standard imports\n",
    "import tensorflow as tf\n",
    "import cv2 as cv\n",
    "import numpy as np\n",
    "import operator\n",
    "from z3 import *"
   ]
  },
  {
   "cell_type": "markdown",
   "metadata": {
    "id": "18EPHgc-KHCO"
   },
   "source": [
    "## A CNN model to get digits from image"
   ]
  },
  {
   "cell_type": "code",
   "execution_count": null,
   "metadata": {
    "executionInfo": {
     "elapsed": 506,
     "status": "ok",
     "timestamp": 1658405427172,
     "user": {
      "displayName": "Guduru Manoj",
      "userId": "13304024587256658139"
     },
     "user_tz": -330
    },
    "id": "AxjAIfbnKNT2"
   },
   "outputs": [],
   "source": [
    "def returnmodel():\n",
    "    model = tf.keras.Sequential([\n",
    "                                 \n",
    "        tf.keras.layers.InputLayer(input_shape=(28, 28, 1)),\n",
    "        \n",
    "        tf.keras.layers.Conv2D(64, (2, 2), activation=\"relu\", padding=\"same\"),\n",
    "        tf.keras.layers.MaxPooling2D((2, 2)),\n",
    "\n",
    "        tf.keras.layers.Conv2D(128, (2, 2), activation=\"relu\", padding=\"same\"),\n",
    "        tf.keras.layers.MaxPooling2D((2, 2)),\n",
    "\n",
    "        tf.keras.layers.Conv2D(256, (2, 2), activation=\"relu\", padding=\"same\"),\n",
    "        tf.keras.layers.MaxPooling2D((2, 2)),\n",
    "\n",
    "        tf.keras.layers.Flatten(),\n",
    "\n",
    "        tf.keras.layers.Dense(256, activation='relu'),\n",
    "        tf.keras.layers.Dense(128, activation='relu'),\n",
    "        tf.keras.layers.Dense(64, activation='relu'),\n",
    "        tf.keras.layers.Dropout(0.2),\n",
    "        tf.keras.layers.Dense(10, activation=\"softmax\")\n",
    "    ])\n",
    "\n",
    "    model.compile(optimizer = 'adam', loss='categorical_crossentropy', metrics=['accuracy'])\n",
    "\n",
    "    return model"
   ]
  },
  {
   "cell_type": "markdown",
   "metadata": {
    "id": "tk4mjrnGL7e3"
   },
   "source": [
    "#### Loading the dataset to train the CNN"
   ]
  },
  {
   "cell_type": "code",
   "execution_count": null,
   "metadata": {
    "colab": {
     "base_uri": "https://localhost:8080/"
    },
    "executionInfo": {
     "elapsed": 1230,
     "status": "ok",
     "timestamp": 1658405431582,
     "user": {
      "displayName": "Guduru Manoj",
      "userId": "13304024587256658139"
     },
     "user_tz": -330
    },
    "id": "OJ69eLxQMAZI",
    "outputId": "9b83b42b-2408-4979-a796-6249f8ad6746"
   },
   "outputs": [],
   "source": [
    "(x_train, y_train), (x_test, y_test) = tf.keras.datasets.mnist.load_data()  ## loading the data\n",
    "x_train = x_train / 255.0        ## normalising the dataset\n",
    "x_test = x_test / 255.0         ## normalising the dataset"
   ]
  },
  {
   "cell_type": "code",
   "execution_count": null,
   "metadata": {
    "executionInfo": {
     "elapsed": 499,
     "status": "ok",
     "timestamp": 1658405435158,
     "user": {
      "displayName": "Guduru Manoj",
      "userId": "13304024587256658139"
     },
     "user_tz": -330
    },
    "id": "TUUC1ARhQ6mq"
   },
   "outputs": [],
   "source": [
    "y_train = tf.keras.utils.to_categorical(y_train)\n",
    "y_test = tf.keras.utils.to_categorical(y_test)"
   ]
  },
  {
   "cell_type": "code",
   "execution_count": null,
   "metadata": {
    "colab": {
     "base_uri": "https://localhost:8080/"
    },
    "executionInfo": {
     "elapsed": 531,
     "status": "ok",
     "timestamp": 1658405437958,
     "user": {
      "displayName": "Guduru Manoj",
      "userId": "13304024587256658139"
     },
     "user_tz": -330
    },
    "id": "6NW5kRI4Nx0E",
    "outputId": "79a91abc-e22c-4707-dd31-7a7876c62130"
   },
   "outputs": [],
   "source": [
    "x_train.shape, x_test.shape, y_train.shape, y_test.shape"
   ]
  },
  {
   "cell_type": "code",
   "execution_count": null,
   "metadata": {
    "colab": {
     "base_uri": "https://localhost:8080/"
    },
    "executionInfo": {
     "elapsed": 10,
     "status": "ok",
     "timestamp": 1658405440603,
     "user": {
      "displayName": "Guduru Manoj",
      "userId": "13304024587256658139"
     },
     "user_tz": -330
    },
    "id": "ap0q7OsEOkAj",
    "outputId": "11d7310c-586b-4d54-bb2a-a0ebebd5235a"
   },
   "outputs": [],
   "source": [
    "x_train = np.expand_dims(x_train, axis = 3)\n",
    "x_test = np.expand_dims(x_test, axis = 3)\n",
    "x_train.shape, x_test.shape"
   ]
  },
  {
   "cell_type": "code",
   "execution_count": null,
   "metadata": {},
   "outputs": [],
   "source": [
    "cv.imshow('image', x_train[5])\n",
    "cv.waitKey(0)"
   ]
  },
  {
   "cell_type": "markdown",
   "metadata": {
    "id": "bi9oJiH2MhT8"
   },
   "source": [
    "#### Training the model"
   ]
  },
  {
   "cell_type": "code",
   "execution_count": null,
   "metadata": {
    "colab": {
     "base_uri": "https://localhost:8080/",
     "height": 408
    },
    "executionInfo": {
     "elapsed": 26516,
     "status": "error",
     "timestamp": 1658405470295,
     "user": {
      "displayName": "Guduru Manoj",
      "userId": "13304024587256658139"
     },
     "user_tz": -330
    },
    "id": "W5lp9MQZMboS",
    "outputId": "8e12b0fa-bac8-4ed0-bc59-218d29860919"
   },
   "outputs": [],
   "source": [
    "model = returnmodel()\n",
    "EPOCHS = 15\n",
    "BATCHSIZE = 32\n",
    "model.fit(x_train, y_train, epochs = EPOCHS, batch_size = BATCHSIZE, validation_split= 0.1)"
   ]
  },
  {
   "cell_type": "code",
   "execution_count": null,
   "metadata": {
    "colab": {
     "base_uri": "https://localhost:8080/"
    },
    "executionInfo": {
     "elapsed": 1244,
     "status": "ok",
     "timestamp": 1658382500871,
     "user": {
      "displayName": "Guduru Manoj",
      "userId": "13304024587256658139"
     },
     "user_tz": -330
    },
    "id": "VR59x2e9TBy3",
    "outputId": "d35d57e2-e25c-47c2-9df1-762e3b82b667"
   },
   "outputs": [],
   "source": [
    "model.evaluate(x_test, y_test)"
   ]
  },
  {
   "cell_type": "code",
   "execution_count": null,
   "metadata": {},
   "outputs": [],
   "source": [
    "prediction = model.predict(np.expand_dims(x_test[11], axis = 0))\n",
    "np.argmax(prediction)"
   ]
  },
  {
   "cell_type": "code",
   "execution_count": null,
   "metadata": {},
   "outputs": [],
   "source": [
    "cv.imshow('image', x_test[11])\n",
    "cv.waitKey(0)"
   ]
  },
  {
   "cell_type": "markdown",
   "metadata": {
    "id": "dOqQkl6kDmYy"
   },
   "source": [
    "## Preprocessing"
   ]
  },
  {
   "cell_type": "code",
   "execution_count": null,
   "metadata": {
    "executionInfo": {
     "elapsed": 441,
     "status": "ok",
     "timestamp": 1658405542706,
     "user": {
      "displayName": "Guduru Manoj",
      "userId": "13304024587256658139"
     },
     "user_tz": -330
    },
    "id": "mH3xUbsuDcOx"
   },
   "outputs": [],
   "source": [
    "def preprocess(img):\n",
    "  \n",
    "  img_gray = cv.cvtColor(img, cv.COLOR_BGR2GRAY)                ## converting the image into grayscale\n",
    "  blur = cv.GaussianBlur(img_gray, (9, 9), 0)                   ## blurring the image\n",
    "  thresh = cv.adaptiveThreshold(blur, 255, cv.ADAPTIVE_THRESH_GAUSSIAN_C, cv.THRESH_BINARY, 11, 2) # thresholding it\n",
    "  inverted = cv.bitwise_not(thresh, 0)                          ## inverting the image\n",
    "  kernel = cv.getStructuringElement(cv.MORPH_RECT, (2, 2))      ## to get a kernel\n",
    "  morph = cv.morphologyEx(inverted, cv.MORPH_OPEN, kernel)      ## morphing it to remove random noise\n",
    "  result = cv.dilate(morph, kernel, iterations=1)               ## dilating the image to increase the border size\n",
    "  return result"
   ]
  },
  {
   "cell_type": "markdown",
   "metadata": {
    "id": "6K73zMEXJ-pT"
   },
   "source": [
    "## Extracting the digits from image"
   ]
  },
  {
   "cell_type": "markdown",
   "metadata": {
    "id": "nLLngmSXkadh"
   },
   "source": [
    "### Utility functions"
   ]
  },
  {
   "cell_type": "code",
   "execution_count": null,
   "metadata": {
    "executionInfo": {
     "elapsed": 634,
     "status": "ok",
     "timestamp": 1658405548868,
     "user": {
      "displayName": "Guduru Manoj",
      "userId": "13304024587256658139"
     },
     "user_tz": -330
    },
    "id": "roDTHvV6FPzW"
   },
   "outputs": [],
   "source": [
    "## function to identify the corners of the grid\n",
    "\n",
    "def extremecorners(polygon, limit_fn, compare_fn):\n",
    "    # limit_fn is the min or max function\n",
    "    # compare_fn is the np.add or np.subtract function\n",
    "    # if we are trying to find bottom left corner, we know that it will have the smallest (x - y) value\n",
    "    section, _ = limit_fn(enumerate([compare_fn(pt[0][0], pt[0][1]) for pt in polygon]),\n",
    "                          key=operator.itemgetter(1))\n",
    "\n",
    "    return polygon[section][0][0], polygon[section][0][1]\n"
   ]
  },
  {
   "cell_type": "code",
   "execution_count": null,
   "metadata": {
    "executionInfo": {
     "elapsed": 720,
     "status": "ok",
     "timestamp": 1658405565417,
     "user": {
      "displayName": "Guduru Manoj",
      "userId": "13304024587256658139"
     },
     "user_tz": -330
    },
    "id": "IfcSCByqTToM"
   },
   "outputs": [],
   "source": [
    "## function to label the sudoku grid\n",
    "\n",
    "def extrememarkers(pts, original):\n",
    "    cv.circle(original, pts, 5, (0, 255, 0), cv.FILLED)"
   ]
  },
  {
   "cell_type": "code",
   "execution_count": null,
   "metadata": {
    "executionInfo": {
     "elapsed": 477,
     "status": "ok",
     "timestamp": 1658405586625,
     "user": {
      "displayName": "Guduru Manoj",
      "userId": "13304024587256658139"
     },
     "user_tz": -330
    },
    "id": "YwunmCG1Hqcn"
   },
   "outputs": [],
   "source": [
    "## function to get grid lines\n",
    "\n",
    "def gridlines(img, location, length=10):\n",
    "    clone = img.copy()\n",
    "    roworcol = clone.shape[location]   # location is 1 for horizontal and 0 for vertical \n",
    "    size = roworcol // length         # to find distance between lines so as to get good grid size\n",
    "\n",
    "    if location == 0:                   # to get structuring element depending upon whether it is horizontal or vertical\n",
    "        kernel = cv.getStructuringElement(cv.MORPH_RECT, (1, size))\n",
    "    else:\n",
    "        kernel = cv.getStructuringElement(cv.MORPH_RECT, (size, 1))\n",
    "\n",
    "    clone = cv.erode(clone, kernel)\n",
    "    clone = cv.dilate(clone, kernel)\n",
    "\n",
    "    return clone"
   ]
  },
  {
   "cell_type": "code",
   "execution_count": null,
   "metadata": {
    "executionInfo": {
     "elapsed": 497,
     "status": "ok",
     "timestamp": 1658405593372,
     "user": {
      "displayName": "Guduru Manoj",
      "userId": "13304024587256658139"
     },
     "user_tz": -330
    },
    "id": "OBr_u6k8Vi2N"
   },
   "outputs": [],
   "source": [
    "## function to draw lines, i.e, to draw grid lines\n",
    "\n",
    "def drawlines(img, lines):\n",
    "    \n",
    "    clone = img.copy()\n",
    "    lines = np.squeeze(lines)\n",
    "\n",
    "    for rho, theta in lines:\n",
    "        a = np.cos(theta)\n",
    "        b = np.sin(theta)\n",
    "        x0 = a * rho\n",
    "        y0 = b * rho\n",
    "        x1 = int(x0 + 1000 * (-b))\n",
    "        y1 = int(y0 + 1000 * a)\n",
    "        x2 = int(x0 - 1000 * (-b))\n",
    "        y2 = int(y0 - 1000 * a)\n",
    "        cv.line(clone, (x1, y1), (x2, y2), (255, 255, 255), 4)\n",
    "    return clone"
   ]
  },
  {
   "cell_type": "code",
   "execution_count": null,
   "metadata": {
    "executionInfo": {
     "elapsed": 681,
     "status": "ok",
     "timestamp": 1658405623114,
     "user": {
      "displayName": "Guduru Manoj",
      "userId": "13304024587256658139"
     },
     "user_tz": -330
    },
    "id": "y9Hlb7CmWfsZ"
   },
   "outputs": [],
   "source": [
    "def cleanhelper(img):\n",
    "    if np.isclose(img, 0).sum() / (img.shape[0] * img.shape[1]) >= 0.95:\n",
    "        return np.zeros_like(img), False\n",
    "\n",
    "    # if there is very little white in the region around the center, this means we got an edge accidently\n",
    "    height, width = img.shape\n",
    "    mid = width // 2\n",
    "    if np.isclose(img[:, int(mid - width * 0.4):int(mid + width * 0.4)], 0).sum() / (2 * width * 0.4 * height) >= 0.90:\n",
    "        return np.zeros_like(img), False\n",
    "\n",
    "    # center image\n",
    "    contours, _ = cv.findContours(img, cv.RETR_EXTERNAL, cv.CHAIN_APPROX_SIMPLE)\n",
    "    contours = sorted(contours, key=cv.contourArea, reverse=True)\n",
    "    x, y, w, h = cv.boundingRect(contours[0])\n",
    "\n",
    "    startx = (width - w) // 2\n",
    "    starty = (height - h) // 2\n",
    "    newimg = np.zeros_like(img)\n",
    "    newimg[starty:starty + h, startx:startx + w] = img[y:y + h, x:x + w]\n",
    "\n",
    "    return newimg, True"
   ]
  },
  {
   "cell_type": "code",
   "execution_count": null,
   "metadata": {
    "executionInfo": {
     "elapsed": 3,
     "status": "ok",
     "timestamp": 1658405651397,
     "user": {
      "displayName": "Guduru Manoj",
      "userId": "13304024587256658139"
     },
     "user_tz": -330
    },
    "id": "rOAXhh_aZjtV"
   },
   "outputs": [],
   "source": [
    "## function to get grid mask\n",
    "\n",
    "def gridmask(vertical, horizontal):\n",
    "    grid = cv.add(horizontal, vertical)    # combine the vertical and horizontal lines to make a grid\n",
    "    \n",
    "    # threshold and dilate the grid to cover more area\n",
    "    grid = cv.adaptiveThreshold(grid, 255, cv.ADAPTIVE_THRESH_GAUSSIAN_C, cv.THRESH_BINARY, 235, 2)\n",
    "    grid = cv.dilate(grid, cv.getStructuringElement(cv.MORPH_RECT, (3, 3)), iterations=2)\n",
    "\n",
    "    pts = cv.HoughLines(grid, .3, np.pi / 90, 200)     # to find where lines are located\n",
    "\n",
    "    lines = drawlines(grid, pts)\n",
    "    mask = cv.bitwise_not(lines)   # extracting the lines so that only numbers are left\n",
    "    return mask"
   ]
  },
  {
   "cell_type": "code",
   "execution_count": null,
   "metadata": {
    "executionInfo": {
     "elapsed": 510,
     "status": "ok",
     "timestamp": 1658405664432,
     "user": {
      "displayName": "Guduru Manoj",
      "userId": "13304024587256658139"
     },
     "user_tz": -330
    },
    "id": "F_iN8mBHcgdS"
   },
   "outputs": [],
   "source": [
    "# function to get grid lines\n",
    "\n",
    "def getgridlines(img, length=10):\n",
    "    horizontal = gridlines(img, 1, length)\n",
    "    vertical = gridlines(img, 0, length)\n",
    "    return vertical, horizontal"
   ]
  },
  {
   "cell_type": "code",
   "execution_count": null,
   "metadata": {
    "executionInfo": {
     "elapsed": 9,
     "status": "ok",
     "timestamp": 1658405892821,
     "user": {
      "displayName": "Guduru Manoj",
      "userId": "13304024587256658139"
     },
     "user_tz": -330
    },
    "id": "zmbuaJg2dDEh"
   },
   "outputs": [],
   "source": [
    "# function to find contours\n",
    "\n",
    "def find_contours(img, original):\n",
    "\n",
    "    contours, _ = cv.findContours(img, cv.RETR_EXTERNAL, cv.CHAIN_APPROX_SIMPLE)\n",
    "\n",
    "    contours = sorted(contours, key=cv.contourArea, reverse=True)      # sorting the contours to get the largest polygon\n",
    "    \n",
    "    polygon = None\n",
    "\n",
    "    # make sure this is the one we are looking for\n",
    "    for cnt in contours:\n",
    "        area = cv.contourArea(cnt)\n",
    "        perimeter = cv.arcLength(cnt, closed=True)\n",
    "        approx = cv.approxPolyDP(cnt, 0.01 * perimeter, closed=True)\n",
    "        num_corners = len(approx)\n",
    "\n",
    "        if num_corners == 4 and area > 1000:\n",
    "            polygon = cnt\n",
    "            break\n",
    "\n",
    "    if polygon is not None:\n",
    "        # find its extreme corners\n",
    "        topleft = extremecorners(polygon, min, np.add)  # has smallest (x + y) value\n",
    "        topright = extremecorners(polygon, max, np.subtract)  # has largest (x - y) value\n",
    "        botleft = extremecorners(polygon, min, np.subtract)  # has smallest (x - y) value\n",
    "        botright = extremecorners(polygon, max, np.add)  # has largest (x + y) value\n",
    "\n",
    "        # if its not a square, we don't want it\n",
    "        if botright[1] - topright[1] == 0:\n",
    "            return []\n",
    "        if not (0.95 < ((topright[0] - topleft[0]) / (botright[1] - topright[1])) < 1.05):\n",
    "            return []\n",
    "\n",
    "        cv.drawContours(original, [polygon], 0, (0, 0, 255), 3)\n",
    "\n",
    "        # drawing corresponding circles just to make sure we had correctly identified it\n",
    "        [extrememarkers(x, original) for x in [topleft, topright, botright, botleft]]\n",
    "\n",
    "        return [topleft, topright, botright, botleft]\n",
    "\n",
    "    return []"
   ]
  },
  {
   "cell_type": "code",
   "execution_count": null,
   "metadata": {
    "executionInfo": {
     "elapsed": 448,
     "status": "ok",
     "timestamp": 1658406563139,
     "user": {
      "displayName": "Guduru Manoj",
      "userId": "13304024587256658139"
     },
     "user_tz": -330
    },
    "id": "4gsXQDv6eDMS"
   },
   "outputs": [],
   "source": [
    "# function to warp the image\n",
    "\n",
    "def warpimage(corners, original):\n",
    "    \n",
    "    corners = np.array(corners, dtype='float32')\n",
    "    topleft, topright, botright, botleft = corners\n",
    "\n",
    "    # find the best side width, since we will be warping into a square, height = length\n",
    "    width = int(max([\n",
    "        np.linalg.norm(topright - botright),\n",
    "        np.linalg.norm(topleft - botleft),\n",
    "        np.linalg.norm(botright - botleft),\n",
    "        np.linalg.norm(topleft - topright)\n",
    "    ]))\n",
    "\n",
    "    # creating an array with shows top_left, top_right, bot_left, bot_right\n",
    "    mapping = np.array([[0, 0], [width - 1, 0], [width - 1, width - 1], [0, width - 1]], dtype='float32')\n",
    "\n",
    "    matrix = cv.getPerspectiveTransform(corners, mapping)\n",
    "\n",
    "    return cv.warpPerspective(original, matrix, (width, width)), matrix"
   ]
  },
  {
   "cell_type": "code",
   "execution_count": null,
   "metadata": {
    "executionInfo": {
     "elapsed": 660,
     "status": "ok",
     "timestamp": 1658406569621,
     "user": {
      "displayName": "Guduru Manoj",
      "userId": "13304024587256658139"
     },
     "user_tz": -330
    },
    "id": "FHO7qwMeeg_2"
   },
   "outputs": [],
   "source": [
    "# function to split the warped image into squares\n",
    "\n",
    "def splittosquares(warpedimg):\n",
    "    squares = []\n",
    "\n",
    "    width = warpedimg.shape[0] // 9\n",
    "\n",
    "    # finding each square by assuming they are of the same side\n",
    "    for j in range(9):\n",
    "        for i in range(9):\n",
    "            p1 = (i * width, j * width)  # Top left corner of a bounding box\n",
    "            p2 = ((i + 1) * width, (j + 1) * width)  # Bottom right corner of bounding box\n",
    "            squares.append(warpedimg[p1[1]:p2[1], p1[0]:p2[0]])\n",
    "\n",
    "    return squares\n"
   ]
  },
  {
   "cell_type": "code",
   "execution_count": null,
   "metadata": {
    "executionInfo": {
     "elapsed": 506,
     "status": "ok",
     "timestamp": 1658406573152,
     "user": {
      "displayName": "Guduru Manoj",
      "userId": "13304024587256658139"
     },
     "user_tz": -330
    },
    "id": "fFj-xpfpohWI"
   },
   "outputs": [],
   "source": [
    "## function to get images of digits if a digit is present\n",
    "## the values are appended into a list\n",
    "\n",
    "def cleansquares(squares):\n",
    "    cleanedsquares = []\n",
    "\n",
    "    for square in squares:\n",
    "        newimg, isnumber = cleanhelper(square)\n",
    "        if isnumber:      # if there is a non-zero number, appending the image to the list\n",
    "            cleanedsquares.append(newimg)\n",
    "        else:\n",
    "            cleanedsquares.append(0)\n",
    "\n",
    "    return cleanedsquares"
   ]
  },
  {
   "cell_type": "code",
   "execution_count": null,
   "metadata": {
    "executionInfo": {
     "elapsed": 425,
     "status": "ok",
     "timestamp": 1658406576607,
     "user": {
      "displayName": "Guduru Manoj",
      "userId": "13304024587256658139"
     },
     "user_tz": -330
    },
    "id": "Mjpk0s0Do6P9"
   },
   "outputs": [],
   "source": [
    "## function to recognise the digits\n",
    "\n",
    "def recognizedigits(squares, model):\n",
    "    s = \"\"    # a string to store the recognised digits\n",
    "    formattedimages = []\n",
    "    zeropositions = set()\n",
    "\n",
    "    blankimage = np.zeros_like(cv.resize(squares[0], (28, 28)))\n",
    "    blankimage = np.expand_dims(blankimage, axis = 2)\n",
    "\n",
    "    # adding the list of splitted square images so that we can predict later\n",
    "    for i in range(len(squares)):\n",
    "        if type(squares[i]) == int:\n",
    "            zeropositions.add(i)\n",
    "            formattedimages.append(blankimage)\n",
    "        else:\n",
    "            print(squares[i].shape)\n",
    "            img = cv.resize(squares[i], (28, 28))\n",
    "#             cv.imshow('image', img)\n",
    "#             cv.waitKey(0)\n",
    "#             print(img.shape)\n",
    "            img = np.expand_dims(img, axis = 2)\n",
    "            cv.imshow('image', img)\n",
    "            cv.waitKey(0)\n",
    "            print(img.shape)\n",
    "            prediction = model.predict(np.expand_dims(img, axis = 0))\n",
    "            print(np.argmax(prediction))\n",
    "            formattedimages.append(img)\n",
    "\n",
    "    formattedimages = np.array(formattedimages)\n",
    "    print(formattedimages.shape)\n",
    "    all_preds = list(map(np.argmax, model(tf.convert_to_tensor(formattedimages))))\n",
    "    print(all_preds)\n",
    "    for i in range(len(all_preds)):\n",
    "        if i in zeropositions:\n",
    "            s += \"0\"\n",
    "        else:\n",
    "            s += str(all_preds[i] + 1)\n",
    "\n",
    "    return s"
   ]
  },
  {
   "cell_type": "code",
   "execution_count": null,
   "metadata": {
    "executionInfo": {
     "elapsed": 514,
     "status": "ok",
     "timestamp": 1658406583919,
     "user": {
      "displayName": "Guduru Manoj",
      "userId": "13304024587256658139"
     },
     "user_tz": -330
    },
    "id": "yV-_flVQpkNe"
   },
   "outputs": [],
   "source": [
    "# function to draw digits on the image\n",
    "\n",
    "def drawdigitsonwarped(warpedimg, solvedpuzzle, squaresprocessed):\n",
    "    width = warpedimg.shape[0] // 9\n",
    "\n",
    "    imgwithtext = np.zeros_like(warpedimg)\n",
    "\n",
    "    # find each square assuming they are of the same side\n",
    "    index = 0\n",
    "    for j in range(9):\n",
    "        for i in range(9):\n",
    "            if type(squaresprocessed[index]) == int:\n",
    "                p1 = (i * width, j * width)  # Top left corner of a bounding box\n",
    "                p2 = ((i + 1) * width, (j + 1) * width)  # Bottom right corner of bounding box\n",
    "\n",
    "                center = ((p1[0] + p2[0]) // 2, (p1[1] + p2[1]) // 2)\n",
    "                text_size, _ = cv.getTextSize(str(solvedpuzzle[index]), cv.FONT_HERSHEY_SIMPLEX, 0.75, 4)\n",
    "                text_origin = (center[0] - text_size[0] // 2, center[1] + text_size[1] // 2)\n",
    "\n",
    "                cv.putText(warpedimg, str(solvedpuzzle[index]),\n",
    "                            text_origin, cv.FONT_HERSHEY_SIMPLEX, 1, (0, 0, 255), 2)\n",
    "            index += 1\n",
    "\n",
    "    return imgwithtext"
   ]
  },
  {
   "cell_type": "markdown",
   "metadata": {},
   "source": [
    "## Sudoku SAT Solver "
   ]
  },
  {
   "cell_type": "code",
   "execution_count": null,
   "metadata": {},
   "outputs": [],
   "source": [
    "def solvepuzzle(instance):\n",
    "    # 9x9 matrix of integer variables\n",
    "    X = [ [ Int(\"x_%s_%s\" % (i+1, j+1)) for j in range(9) ]\n",
    "          for i in range(9) ]\n",
    "\n",
    "    # each cell contains a value in {1, ..., 9}\n",
    "    cells_c  = [ And(1 <= X[i][j], X[i][j] <= 9)\n",
    "                 for i in range(9) for j in range(9) ]\n",
    "\n",
    "    # each row contains a digit at most once\n",
    "    rows_c   = [ Distinct(X[i]) for i in range(9) ]\n",
    "\n",
    "    # each column contains a digit at most once\n",
    "    cols_c   = [ Distinct([ X[i][j] for i in range(9) ])\n",
    "                 for j in range(9) ]\n",
    "\n",
    "    # each 3x3 square contains a digit at most once\n",
    "    sq_c     = [ Distinct([ X[3*i0 + i][3*j0 + j]\n",
    "                            for i in range(3) for j in range(3) ])\n",
    "                 for i0 in range(3) for j0 in range(3) ]\n",
    "    \n",
    "    sudoku_c = cells_c + rows_c + cols_c + sq_c        ## overall conditions for sudoku \n",
    "    instance_c = [ If(instance[i][j] == 0,\n",
    "                      True,\n",
    "                      X[i][j] == instance[i][j])\n",
    "                   for i in range(9) for j in range(9) ]\n",
    "\n",
    "    s = Solver()\n",
    "    s.add(sudoku_c + instance_c)\n",
    "    if s.check() == sat:\n",
    "        m = s.model()\n",
    "        r = [ [ m.evaluate(X[i][j]) for j in range(9) ]\n",
    "              for i in range(9) ]\n",
    "        return r, 1\n",
    "    else:\n",
    "        return 0, 0"
   ]
  },
  {
   "cell_type": "code",
   "execution_count": null,
   "metadata": {},
   "outputs": [],
   "source": [
    "def getinstance(prediction):\n",
    "    l = []\n",
    "    for i in prediction:\n",
    "        l += [int(i)]\n",
    "    arr = np.array(l)\n",
    "    arr1 = arr.reshape(9,9)\n",
    "    return arr1"
   ]
  },
  {
   "cell_type": "code",
   "execution_count": null,
   "metadata": {},
   "outputs": [],
   "source": [
    "sudokuimg = cv.imread('./images/sudoku1.png')\n",
    "imgcorners = sudokuimg.copy()\n",
    "cv.imshow('image', sudokuimg)\n",
    "cv.waitKey(0)"
   ]
  },
  {
   "cell_type": "code",
   "execution_count": null,
   "metadata": {},
   "outputs": [],
   "source": [
    "processedimg = preprocess(sudokuimg)\n",
    "corners = find_contours(processedimg, imgcorners)\n"
   ]
  },
  {
   "cell_type": "code",
   "execution_count": null,
   "metadata": {},
   "outputs": [],
   "source": [
    "cv.imshow('image', processedimg)\n",
    "cv.waitKey(0)"
   ]
  },
  {
   "cell_type": "code",
   "execution_count": null,
   "metadata": {},
   "outputs": [],
   "source": [
    "if corners:\n",
    "    warped, matrix = warpimage(corners, sudokuimg)\n",
    "    warpedprocessed = preprocess(warped)\n",
    "    \n",
    "    verticallines, horizontallines = getgridlines(warpedprocessed)\n",
    "    mask = gridmask(verticallines, horizontallines)\n",
    "    numbers = cv.bitwise_and(warpedprocessed, mask)\n",
    "\n",
    "    squares = splittosquares(numbers)\n",
    "\n",
    "    squaresprocessed = cleansquares(squares)\n",
    "    \n",
    "    mymodel = returnmodel()\n",
    "    squaresprediction = recognizedigits(squaresprocessed, mymodel)\n",
    "\n",
    "    solvedpuzzle = sudoku.solve_wrapper(squares_guesses)\n",
    "    instance = getinstance(squaresprediction)\n",
    "    solvedpuzzle, checker = solvepuzzle(instance)\n",
    "    if checker != 0:\n",
    "        drawdigitsonwarped(warped, solvedpuzzle, squaresprocessed)\n",
    "    else:\n",
    "        print \"Unsolvable Sudoku Puzzle\""
   ]
  }
 ],
 "metadata": {
  "accelerator": "GPU",
  "colab": {
   "authorship_tag": "ABX9TyPZa0sZk/HxQ2bGWTzRBv02",
   "collapsed_sections": [],
   "name": "sudoku.ipynb",
   "provenance": []
  },
  "gpuClass": "standard",
  "kernelspec": {
   "display_name": "Python 3 (ipykernel)",
   "language": "python",
   "name": "python3"
  },
  "language_info": {
   "codemirror_mode": {
    "name": "ipython",
    "version": 3
   },
   "file_extension": ".py",
   "mimetype": "text/x-python",
   "name": "python",
   "nbconvert_exporter": "python",
   "pygments_lexer": "ipython3",
   "version": "3.9.4"
  }
 },
 "nbformat": 4,
 "nbformat_minor": 1
}
